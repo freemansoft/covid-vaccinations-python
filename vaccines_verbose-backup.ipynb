{
 "cells": [
  {
   "cell_type": "markdown",
   "metadata": {},
   "source": [
    "This notebook creates new variables when that would make no sense in a large data problem.\n",
    "It does this so that we can go back and look at prvious values"
   ]
  },
  {
   "cell_type": "code",
   "execution_count": null,
   "metadata": {},
   "outputs": [],
   "source": [
    "import numpy as np\n",
    "import pandas as pd\n",
    "import matplotlib.pyplot as plt\n",
    "%matplotlib inline\n",
    "import plotly.express as px"
   ]
  },
  {
   "cell_type": "code",
   "execution_count": null,
   "metadata": {},
   "outputs": [],
   "source": [
    "import os\n",
    "import logging, sys\n",
    "logging.basicConfig(stream=sys.stdout, level=logging.INFO)\n",
    "print(\"data files in this dir\", os.listdir(\"data\"))\n"
   ]
  },
  {
   "cell_type": "code",
   "execution_count": null,
   "metadata": {},
   "outputs": [],
   "source": [
    "#import data\n",
    "df1 = pd.read_csv('data/country_vaccinations.csv',parse_dates=True)\n"
   ]
  },
  {
   "cell_type": "code",
   "execution_count": null,
   "metadata": {},
   "outputs": [],
   "source": [
    "#What are the countries\n",
    "logging.debug(\"Let show all the countries\\n %s\", pd.unique(df1[\"country\"]))"
   ]
  },
  {
   "cell_type": "code",
   "execution_count": null,
   "metadata": {},
   "outputs": [],
   "source": [
    "# show the data\n",
    "logging.debug(\"Schema prior to date conversion %s\",df1.info())\n",
    "# lets convert the dates to real dates\n",
    "df1['date'] = pd.to_datetime(df1['date'])\n",
    "# df1[xxx] is a series\n",
    "# type(df1['date'])\n",
    "logging.debug(\"Schema after to date conversion %s\",df1.info())"
   ]
  },
  {
   "cell_type": "code",
   "execution_count": null,
   "metadata": {},
   "outputs": [],
   "source": [
    "# random demo here\n",
    "logging.debug(\"the number of days for each country %s\",df1.country.value_counts())\n",
    "logging.debug(\"the number of countries with more than a month worth the data %s\",df1.country.value_counts()[lambda day_count: day_count > 30])"
   ]
  },
  {
   "cell_type": "code",
   "execution_count": null,
   "metadata": {},
   "outputs": [],
   "source": [
    "logging.info(\"prior to adding missing days\")\n",
    "# Mumber of missing total vaccinations values - must run against ungrouped (?) - count() is the number of non-nan\n",
    "num_rows=df1['total_vaccinations'].size\n",
    "logging.info(\"Number of records: %s empty total_vaccinations %s\", num_rows,num_rows-df1['daily_vaccinations'].count())\n",
    "logging.info(\"Number of records: %s empty total_vaccinations %s\", num_rows,num_rows-df1['total_vaccinations'].count())\n",
    "\n",
    "# fill in missing dates https://stackoverflow.com/questions/44978196/pandas-filling-missing-dates-and-values-within-group\n",
    "# but leave new values as nan so that we can try and extrapolate\n",
    "# this does not \"extrapolate\" the missing end values - probably should fill with 0 from start to first value\n",
    "df1 = df1.set_index(\n",
    "    ['date', 'country']\n",
    ").unstack(\n",
    "    #fill_value=0\n",
    ").asfreq(\n",
    "    'D', #fill_value=0\n",
    ").stack(\n",
    "    dropna=False\n",
    ").sort_index(level=1).reset_index()\n",
    "\n",
    "logging.info(\"after to adding missing days\")\n",
    "# Show the number of missing total vaccinations values - must run against ungrouped (?)\n",
    "# Mumber of missing total vaccinations values - must run against ungrouped (?) - count() is the number of non-nan\n",
    "num_rows=df1['total_vaccinations'].size\n",
    "logging.info(\"Number of records: %s empty total_vaccinations %s\", num_rows,num_rows-df1['daily_vaccinations'].count())\n",
    "logging.info(\"Number of records: %s empty total_vaccinations %s\", num_rows,num_rows-df1['total_vaccinations'].count())\n",
    "\n",
    "# # create a series where the null elements are represented by true\n",
    "# bool_series = pd.isnull(df1['daily_vaccinations'])\n",
    "# print (\"number of records: \", bool_series.size, \"empty daily_vaccinations\", df1[bool_series]['daily_vaccinations'].size )\n",
    "# bool_series = pd.isnull(df1['total_vaccinations'])\n",
    "# print (\"number of records: \", bool_series.size, \"empty total_vaccinations\", df1[bool_series]['total_vaccinations'].size )\n"
   ]
  },
  {
   "cell_type": "code",
   "execution_count": null,
   "metadata": {},
   "outputs": [],
   "source": [
    "#Sort the data by date but mixes by country so lets do ordered sorting\n",
    "df_date_country = df1.sort_values(['country','date'],ascending=True)\n",
    "logging.debug(\"%s\", df_date_country)"
   ]
  },
  {
   "cell_type": "code",
   "execution_count": null,
   "metadata": {},
   "outputs": [],
   "source": [
    "# group by country then we will operate on each country\n",
    "df_group_by_country = df_date_country.groupby('country')\n",
    "logging.info(\"Number of countries / groups %s\" ,len(df_group_by_country))\n",
    "# show the number of non null values in each group and property\n",
    "logging.debug(\"The number of NaN values for each country and column before interpolation \")\n",
    "logging.debug(\"%s\", df_group_by_country.count())\n",
    "# Show all the groups and the index of items in each\n",
    "logging.debug(\"Groups with the index of all contained %s\", df_group_by_country.groups)\n"
   ]
  },
  {
   "cell_type": "code",
   "execution_count": null,
   "metadata": {},
   "outputs": [],
   "source": [
    "# lets look at one group / country\n",
    "#df_group_by_country.get_group('Andorra') "
   ]
  },
  {
   "cell_type": "code",
   "execution_count": null,
   "metadata": {},
   "outputs": [],
   "source": [
    "# Basically got rid of the 0/ null problem. It takes whatever value the column held before and just inputs it for the next date.\n",
    "# This fills every property/column which may not mack sense for some columns.  we should only do the fields that make sense\n",
    "# could extrapolate for missing end data but lets not do that for now https://stackoverflow.com/questions/22491628/extrapolate-values-in-pandas-dataframe\n",
    "# df_date_country.info()\n",
    "\n",
    "df_interpolated = df_date_country\n",
    "df_interpolated['total_vaccinations'] = df_date_country.groupby('country').total_vaccinations.transform(lambda x: x.interpolate())\n",
    "df_interpolated['people_vaccinated'] = df_date_country.groupby('country').people_vaccinated.transform(lambda x: x.interpolate())\n",
    "df_interpolated['daily_vaccinations'] = df_date_country.groupby('country').daily_vaccinations.transform(lambda x: x.interpolate())\n",
    "df_interpolated['people_fully_vaccinated_per_hundred'] = df_date_country.groupby('country').people_fully_vaccinated_per_hundred.transform(lambda x: x.interpolate())\n",
    "# The iso_code is the same for all rows in a country so we ffill and bfill in case early rows are missing values\n",
    "df_interpolated['iso_code'] = df_date_country.groupby('country').iso_code.ffill().bfill()\n",
    "df_interpolated['vaccines'] = df_date_country.groupby('country').vaccines.ffill().bfill()\n",
    "df_interpolated['source_name'] = df_date_country.groupby('country').source_name.ffill().bfill()\n",
    "df_interpolated['source_website'] = df_date_country.groupby('country').source_website.ffill().bfill()\n",
    "\n",
    "df_interpolated.sort_values(['country','date'])\n",
    "logging.info(\"Interpolation finished\")\n"
   ]
  },
  {
   "cell_type": "code",
   "execution_count": null,
   "metadata": {},
   "outputs": [],
   "source": [
    "# Show the number of missing total vaccinations values - must run against ungrouped (?)\n",
    "# count() is the number of non-nan\n",
    "num_rows=df_interpolated['total_vaccinations'].size\n",
    "logging.info(\"Number of records: %s empty total_vaccinations %s\", num_rows,df_interpolated['daily_vaccinations'].count())\n",
    "logging.info(\"Number of records: %s empty total_vaccinations %s\", num_rows,df_interpolated['total_vaccinations'].count())\n"
   ]
  },
  {
   "cell_type": "markdown",
   "metadata": {},
   "source": [
    "This grouping is left over from some other experiments and is kind of interesting"
   ]
  },
  {
   "cell_type": "code",
   "execution_count": null,
   "metadata": {},
   "outputs": [],
   "source": [
    "# put the group back together because we lost it when we did the ffill\n",
    "df_interpolated_group = df_interpolated.groupby('country')\n",
    "logging.debug(\"Number of countries / groups%s\" ,len(df_interpolated_group))\n",
    "\n",
    "# show the number of non null values in each group and property\n",
    "logging.debug(\"The number of NaN values for each country and column after interpolation is %s\",df_interpolated_group.count())"
   ]
  },
  {
   "cell_type": "code",
   "execution_count": null,
   "metadata": {},
   "outputs": [],
   "source": [
    "# lets look at one group / country\n",
    "logging.debug(\"Show data for Andorra %s\", df_interpolated_group.get_group('Andorra') )"
   ]
  },
  {
   "cell_type": "markdown",
   "metadata": {},
   "source": [
    "## Lets graph this\n",
    "TODO: Add sizing bubbles when we get other data"
   ]
  },
  {
   "cell_type": "code",
   "execution_count": null,
   "metadata": {},
   "outputs": [],
   "source": [
    "df_interpolated['date_str']=df_interpolated.date.astype(str)\n",
    "import plotly.express as px\n",
    "fig = px.scatter(df_interpolated, \n",
    "                 x=\"daily_vaccinations\", \n",
    "                 y=\"people_fully_vaccinated_per_hundred\", \n",
    "                 animation_frame=\"date_str\",\n",
    "                 animation_group=\"country\", \n",
    "                 color='country',\n",
    "                 hover_name=\"country\", \n",
    "                 width=800, \n",
    "                 height=600,\n",
    "                 log_x=True, \n",
    "                 log_y=True,\n",
    "                 range_x=[100,5000000],\n",
    "                 range_y=[0.01,100]\n",
    "                )\n",
    "fig.update_layout(\n",
    "    title='Total Vaccinated vs Vs daily',\n",
    "    yaxis=dict(\n",
    "        title='Vaccinations per 100',\n",
    "        gridcolor='white',\n",
    "        gridwidth=2,\n",
    "    ),\n",
    "    xaxis=dict(\n",
    "        title='Daily Vaccinations'\n",
    "    )\n",
    ")\n",
    "#fig.for_each_annotation(lambda a: a.update(text=a.text.split(\"=\")[-1]))\n",
    "# for i in range(1,7):\n",
    "#     fig.update_xaxes(title_text=\"Daily Vaccinations\", row=1, col=i)\n",
    "fig.show()\n"
   ]
  }
 ],
 "metadata": {
  "kernelspec": {
   "display_name": "Python 3",
   "language": "python",
   "name": "python3"
  },
  "language_info": {
   "codemirror_mode": {
    "name": "ipython",
    "version": 3
   },
   "file_extension": ".py",
   "mimetype": "text/x-python",
   "name": "python",
   "nbconvert_exporter": "python",
   "pygments_lexer": "ipython3",
   "version": "3.7.9"
  }
 },
 "nbformat": 4,
 "nbformat_minor": 4
}
