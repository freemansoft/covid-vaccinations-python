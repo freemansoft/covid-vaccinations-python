{
 "cells": [
  {
   "cell_type": "markdown",
   "metadata": {},
   "source": [
    "## Credits\n",
    "This program uses the data located on Kaggle https://www.kaggle.com/gpreda/covid-world-vaccination-progress\n",
    "I got inspiration for doing this after seeing an early version by https://github.com/Ken-Freeman\n",
    "## Setup\n",
    "Download the data csv file and put it in the data directory prior to running this program\n",
    "## Design Considerations\n",
    "This notebook creates new variables when that would make no sense in a large data problem.\n",
    "It does this so that we can go back and look at previous values"
   ]
  },
  {
   "cell_type": "code",
   "execution_count": null,
   "metadata": {
    "jupyter": {
     "source_hidden": true
    }
   },
   "outputs": [],
   "source": [
    "import numpy as np\n",
    "import pandas as pd\n",
    "import plotly.express as px\n",
    "import matplotlib.pyplot as plt\n",
    "%matplotlib inline\n",
    "from io import StringIO\n",
    "\n",
    "import os\n",
    "import logging, sys\n",
    "logging.basicConfig(stream=sys.stdout, level=logging.INFO)\n",
    "logging.info(\"Local data directory holds: %s\", os.listdir(\"data\"))\n"
   ]
  },
  {
   "cell_type": "code",
   "execution_count": null,
   "metadata": {
    "jupyter": {
     "source_hidden": true
    }
   },
   "outputs": [],
   "source": [
    "# Function that describes the current state of the interesting fields in a vaccination dataframe\n",
    "def log_vaccination_stats(banner, target_frame):\n",
    "    s1 = banner\n",
    "    # Display Statistics Mumber of missing total vaccinations values - must run against ungrouped (?) - count() is the number of non-nan\n",
    "    num_rows=target_frame['country'].size\n",
    "    s2 = \"\\nNumber of records: {} daily_vaccinations     with data {} empty {}\".format(\n",
    "        num_rows,\n",
    "        target_frame['daily_vaccinations'].count(),\n",
    "        target_frame['daily_vaccinations'].isna().sum()\n",
    "    )\n",
    "    s3 = \"\\nNumber of records: {} total_vaccinations     with data {} empty {}\".format(\n",
    "        num_rows,\n",
    "        target_frame['total_vaccinations'].count(),\n",
    "        target_frame['total_vaccinations'].isna().sum()\n",
    "    )\n",
    "    s4 = \"\\nNumber of records: {} vaccinated_per_hundred with data {} empty {}\".format(\n",
    "        num_rows,\n",
    "        target_frame['people_fully_vaccinated_per_hundred'].count(),\n",
    "        target_frame['people_fully_vaccinated_per_hundred'].isna().sum()\n",
    "    )\n",
    "    return s1+s2+s3+s4\n",
    "\n",
    "# Display statistics: show another way to display using a list of null and not null\n",
    "# create a series where the null elements are represented by true and a series where non_null elements are represented\n",
    "def log_vaccination_stats_2(banner,target_frame):\n",
    "    s1 =banner\n",
    "    s2 =\"\\nNumber of records: {} daily_vaccinations     with data {} empty {}\".format(\n",
    "        target_frame['country'].size, \n",
    "        target_frame[pd.notnull(target_frame['daily_vaccinations'])]['daily_vaccinations'].size , \n",
    "        target_frame[pd.isnull(target_frame['daily_vaccinations'])]['daily_vaccinations'].size )\n",
    "    s3 = \"\\nNumber of records: {} total_vaccinations     with data {} empty {}\".format(\n",
    "        target_frame['country'].size,                   \n",
    "        target_frame[pd.notnull(target_frame['total_vaccinations'])]['total_vaccinations'].size , \n",
    "        target_frame[pd.isnull(target_frame['total_vaccinations'])]['total_vaccinations'].size )\n",
    "    s4 = \"\\nNumber of records: {} vaccinated_per_hundred with data {} empty {}\".format(\n",
    "        target_frame['country'].size, \n",
    "        target_frame[pd.notnull(target_frame['people_fully_vaccinated_per_hundred'])]['people_fully_vaccinated_per_hundred'].size , \n",
    "        target_frame[pd.isnull(target_frame['people_fully_vaccinated_per_hundred'])]['people_fully_vaccinated_per_hundred'].size )\n",
    "    return s1+s2+s3+s4\n",
    "\n",
    "# logs out the field types in a dataframe                                        \n",
    "def log_datatypes(banner, target_frame):\n",
    "    output = StringIO()\n",
    "    target_frame.info(buf=output)\n",
    "    return \"{}\\n{}\".format(banner,output.getvalue())\n",
    "\n",
    "# Sort the data by date mixes by country so lets do ordered sorting on two columns\n",
    "def log_vaccination_samples(banner, target_frame):\n",
    "    return \"{} \\n{}\".format(\n",
    "        banner , \n",
    "        target_frame.sort_values(['country','date'], ascending=True)[['country','date','total_vaccinations','daily_vaccinations','total_vaccinations']])                                         \n"
   ]
  },
  {
   "cell_type": "markdown",
   "metadata": {},
   "source": [
    "## Load the Data\n",
    "1. Load the data\n",
    "1. Convert the date fields from string to date"
   ]
  },
  {
   "cell_type": "code",
   "execution_count": null,
   "metadata": {},
   "outputs": [],
   "source": [
    "#import data from csv\n",
    "df_loaded = pd.read_csv('data/vaccinations.csv',parse_dates=True)\n",
    "# Log unique country names\n",
    "logging.debug(\"Loaded data for countries\\n %s\", pd.unique(df_loaded[\"country\"]))\n",
    "\n",
    "# I like 'country' better than 'name'\n",
    "df_loaded['country']=df_loaded['location']\n",
    "\n",
    "# lets convert the dates from strings to real dates\n",
    "logging.debug(log_datatypes(\"Schema prior to date conversion\", df_loaded))\n",
    "df_loaded['date'] = pd.to_datetime(df_loaded['date'])\n",
    "logging.debug(log_datatypes(\"Schema after to date conversion\", df_loaded))"
   ]
  },
  {
   "cell_type": "code",
   "execution_count": null,
   "metadata": {},
   "outputs": [],
   "source": [
    "#Log the countries with the most data\n",
    "logging.debug(\"the number of days for each country %s\",df_loaded.country.value_counts())\n",
    "logging.debug(\"the number of countries with more than a month worth the data %s\",df_loaded.country.value_counts()[lambda day_count: day_count > 30])"
   ]
  },
  {
   "cell_type": "markdown",
   "metadata": {},
   "source": [
    "## Countries didn't supply data every day\n",
    "1. Make all the countries have rows for all days\n",
    "1. Fill in missing dates.\n",
    "1. Do not fill with hard coded numerical the values.  \n",
    "1. We will interpolate or fill based on the specific requirements for a field\n",
    "\n",
    "## Fill in the missing rows"
   ]
  },
  {
   "cell_type": "code",
   "execution_count": null,
   "metadata": {},
   "outputs": [],
   "source": [
    "logging.info(log_vaccination_stats(\"Prior to filling in missing rows/days\", df_loaded))\n",
    "\n",
    "# fill in missing dates https://stackoverflow.com/questions/44978196/pandas-filling-missing-dates-and-values-within-group\n",
    "# but leave new values as nan so that we can try and extrapolate\n",
    "# this does not \"extrapolate\" the missing start/end values - probably should fill with 0 from start to first value\n",
    "df_filled = df_loaded.set_index(\n",
    "    ['date', 'country']\n",
    ").unstack(\n",
    "    #fill_value=0\n",
    ").asfreq(\n",
    "    'D', #fill_value=0\n",
    ").stack(\n",
    "    # True would drop all rows where all values are NAN which should never happen with this data because every row has a country name.\n",
    "    dropna=False\n",
    ").sort_index(level=1).reset_index()\n",
    "\n",
    "logging.info(log_vaccination_stats_2(\"\\nAfter to adding missing rows/days\",df_filled))\n",
    "logging.debug(log_vaccination_samples(\"After fill, Before Interpolation Country \",df_filled))"
   ]
  },
  {
   "cell_type": "markdown",
   "metadata": {},
   "source": [
    "## Fill in missing values for the rows we are interested in\n",
    "We want to smooth out our graph and eliminate dropout days so countries always have _something_ for each day\n",
    "1. Basically got rid of the 0/ null problem. It takes whatever value the column held before and just inputs it for the next date.\n",
    "1. This fills every property/column which may not make sense for some columns.  \n",
    "1. We should only do the fields that make sense\n",
    "1. Extrapolate the missing start/end values for text fields\n",
    "1. We could extrapolate for missing end data but but let's not do that for now https://stackoverflow.com/questions/22491628/extrapolate-values-in-pandas-dataframe\n"
   ]
  },
  {
   "cell_type": "code",
   "execution_count": null,
   "metadata": {},
   "outputs": [],
   "source": [
    "df_interpolated = df_filled.sort_values(['country','date'])\n",
    "\n",
    "# interpolate numerical values\n",
    "df_interpolated['daily_vaccinations'] = df_interpolated.groupby('country').daily_vaccinations.transform(lambda x: x.interpolate())\n",
    "df_interpolated['total_vaccinations'] = df_interpolated.groupby('country').total_vaccinations.transform(lambda x: x.interpolate())\n",
    "df_interpolated['people_fully_vaccinated_per_hundred'] = df_interpolated.groupby('country').people_fully_vaccinated_per_hundred.transform(lambda x: x.interpolate())\n",
    "df_interpolated['people_vaccinated'] = df_interpolated.groupby('country').people_vaccinated.transform(lambda x: x.interpolate())\n",
    "\n",
    "# String values , iso code, site, etc are the same for all rows in a country so we ffill and bfill in case early rows are missing values\n",
    "df_interpolated['iso_code'] = df_interpolated.groupby('country').iso_code.ffill().bfill()\n",
    "logging.info(\"Interpolation finished\")\n",
    "\n",
    "# Show the number of missing total vaccinations values - must run against ungrouped (?)\n",
    "# count() is the number of non-nan\n",
    "logging.info(log_vaccination_stats(\"After data interpolation\", df_interpolated))\n",
    "logging.debug(log_vaccination_samples(\"After Interpolation: Country\\n%s\", df_interpolated))"
   ]
  },
  {
   "cell_type": "markdown",
   "metadata": {},
   "source": [
    "# Graph It!\n",
    "#### TODO\n",
    "Present more data as bubble sizing"
   ]
  },
  {
   "cell_type": "markdown",
   "metadata": {},
   "source": [
    "## log(X),log(y) axis plot with vaccinations max value 70%\n",
    "\n",
    "The log(y) axis streteches the early progress and compresses the later gains.\n",
    "This is useful when in the early stages of the pandemic where the overall vaccination rates are low"
   ]
  },
  {
   "cell_type": "code",
   "execution_count": null,
   "metadata": {},
   "outputs": [],
   "source": [
    "df_interpolated['date_str']=df_interpolated.date.astype(str)\n",
    "import plotly.express as px\n",
    "fig = px.scatter(df_interpolated, \n",
    "                 x=\"daily_vaccinations\", \n",
    "                 y=\"people_fully_vaccinated_per_hundred\", \n",
    "                 animation_frame=\"date_str\",\n",
    "                 animation_group=\"country\", \n",
    "                 color='country',\n",
    "                 hover_name=\"country\", \n",
    "                 width=800, \n",
    "                 height=600,\n",
    "                 log_x=True, \n",
    "                 log_y=True,\n",
    "                 range_x=[100,5000000],\n",
    "                 range_y=[0.01,70]\n",
    "                )\n",
    "fig.update_layout(\n",
    "    title='Full Vaccinated vs Daily Vaccinations (LOG,LOG)',\n",
    "    yaxis=dict(\n",
    "        title='Fully Vaccinated per 100',\n",
    "        gridcolor='white',\n",
    "        gridwidth=2,\n",
    "    ),\n",
    "    xaxis=dict(\n",
    "        title='Daily Vaccinations'\n",
    "    )\n",
    ")\n",
    "\n",
    "fig.show()\n"
   ]
  },
  {
   "cell_type": "markdown",
   "metadata": {},
   "source": [
    "## log(X),linear(y) axis plot with vaccinations max value 70%\n",
    "\n",
    "This makes it more aparant how far we have to go"
   ]
  },
  {
   "cell_type": "code",
   "execution_count": null,
   "metadata": {},
   "outputs": [],
   "source": [
    "df_interpolated['date_str']=df_interpolated.date.astype(str)\n",
    "import plotly.express as px\n",
    "fig = px.scatter(df_interpolated, \n",
    "                 x=\"daily_vaccinations\", \n",
    "                 y=\"people_fully_vaccinated_per_hundred\", \n",
    "                 animation_frame=\"date_str\",\n",
    "                 animation_group=\"country\", \n",
    "                 color='country',\n",
    "                 hover_name=\"country\", \n",
    "                 width=800, \n",
    "                 height=600,\n",
    "                 log_x=True, \n",
    "                 log_y=False,\n",
    "                 range_x=[100,5000000],\n",
    "                 range_y=[0.01,70]\n",
    "                )\n",
    "fig.update_layout(\n",
    "    title='Full Vaccinated vs Daily Vaccinations (LOG,LINEAR)',\n",
    "    yaxis=dict(\n",
    "        title='Fully Vaccinated per 100',\n",
    "        gridcolor='white',\n",
    "        gridwidth=2,\n",
    "    ),\n",
    "    xaxis=dict(\n",
    "        title='Daily Vaccinations'\n",
    "    )\n",
    ")\n",
    "\n",
    "fig.show()\n"
   ]
  },
  {
   "cell_type": "code",
   "execution_count": null,
   "metadata": {},
   "outputs": [],
   "source": []
  }
 ],
 "metadata": {
  "kernelspec": {
   "display_name": "Python 3",
   "language": "python",
   "name": "python3"
  },
  "language_info": {
   "codemirror_mode": {
    "name": "ipython",
    "version": 3
   },
   "file_extension": ".py",
   "mimetype": "text/x-python",
   "name": "python",
   "nbconvert_exporter": "python",
   "pygments_lexer": "ipython3",
   "version": "3.7.9"
  }
 },
 "nbformat": 4,
 "nbformat_minor": 4
}
