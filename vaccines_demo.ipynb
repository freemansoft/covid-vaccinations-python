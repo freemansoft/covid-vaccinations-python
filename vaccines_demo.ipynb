{
 "cells": [
  {
   "cell_type": "markdown",
   "metadata": {},
   "source": [
    "## Credits\n",
    "This program uses the data located on Kaggle https://www.kaggle.com/gpreda/covid-world-vaccination-progress\n",
    "I got inspiration for doing this after seeing an early version by https://github.com/Ken-Freeman\n",
    "## Setup\n",
    "Download the data csv file and put it in the data directory prior to running this program\n",
    "## Design Considerations\n",
    "This notebook creates new variables when that would make no sense in a large data problem.\n",
    "It does this so that we can go back and look at previous values"
   ]
  },
  {
   "cell_type": "code",
   "execution_count": null,
   "metadata": {},
   "outputs": [],
   "source": [
    "import numpy as np\n",
    "import pandas as pd\n",
    "import matplotlib.pyplot as plt\n",
    "%matplotlib inline\n",
    "import plotly.express as px"
   ]
  },
  {
   "cell_type": "code",
   "execution_count": null,
   "metadata": {},
   "outputs": [],
   "source": [
    "import os\n",
    "import logging, sys\n",
    "logging.basicConfig(stream=sys.stdout, level=logging.INFO)\n",
    "logging.info(\"Local data directory holds: %s\", os.listdir(\"data\"))\n"
   ]
  },
  {
   "cell_type": "markdown",
   "metadata": {},
   "source": [
    "## Load the Data\n",
    "1. Load the data\n",
    "1. Convert the date fields from string to date"
   ]
  },
  {
   "cell_type": "code",
   "execution_count": null,
   "metadata": {},
   "outputs": [],
   "source": [
    "from io import StringIO\n",
    "#import data\n",
    "df_loaded = pd.read_csv('data/vaccinations.csv',parse_dates=True)\n",
    "\n",
    "# show the data after data load\n",
    "output = StringIO()\n",
    "df_loaded.info(buf=output)\n",
    "logging.debug(\"Schema prior to date conversion %s\",output.getvalue())\n",
    "\n",
    "# Lets have a better name for name :-)\n",
    "df_loaded['country']=df_loaded['location']\n",
    "# lets convert the dates from strings to real dates\n",
    "df_loaded['date'] = pd.to_datetime(df_loaded['date'])\n",
    "\n",
    "# show the data types after conversion\n",
    "output = StringIO()\n",
    "df_loaded.info(buf=output)\n",
    "logging.debug(\"Schema after to date conversion %s\",output.getvalue())"
   ]
  },
  {
   "cell_type": "code",
   "execution_count": null,
   "metadata": {},
   "outputs": [],
   "source": [
    "# random demo here\n",
    "\n",
    "# What are the countries\n",
    "logging.debug(\"Loaded data for countries\\n %s\", pd.unique(df_loaded[\"country\"]))\n",
    "\n",
    "#Log the countries with the most data\n",
    "logging.debug(\"the number of days for each country %s\",df_loaded.country.value_counts())\n",
    "logging.debug(\"the number of countries with more than a month worth the data %s\",df_loaded.country.value_counts()[lambda day_count: day_count > 30])"
   ]
  },
  {
   "cell_type": "markdown",
   "metadata": {},
   "source": [
    "## Countries didn't supply data every day\n",
    "1. Make all the countries have rows for all days\n",
    "1. Fill in missing dates.\n",
    "1. Do not fill with hard coded numerical the values.  \n",
    "1. We will interpolate or fill based on the specific requirements for a field\n",
    "\n",
    "## Fill in the missing rows"
   ]
  },
  {
   "cell_type": "code",
   "execution_count": null,
   "metadata": {},
   "outputs": [],
   "source": [
    "logging.info(\"Prior to filling in missing rows/days\")\n",
    "# Display Statistics Mumber of missing total vaccinations values - must run against ungrouped (?) - count() is the number of non-nan\n",
    "num_rows=df_loaded['country'].size\n",
    "logging.info(\"Number of records: %s daily_vaccinations with data %s\", num_rows,df_loaded['daily_vaccinations'].count())\n",
    "logging.info(\"Number of records: %s total_vaccinations with data %s\", num_rows,df_loaded['total_vaccinations'].count())\n",
    "logging.info(\"Number of records: %s vaccinated_per_hundred with data %s\", num_rows,df_loaded['people_fully_vaccinated_per_hundred'].count())\n",
    "\n",
    "# fill in missing dates https://stackoverflow.com/questions/44978196/pandas-filling-missing-dates-and-values-within-group\n",
    "# but leave new values as nan so that we can try and extrapolate\n",
    "# this does not \"extrapolate\" the missing start/end values - probably should fill with 0 from start to first value\n",
    "df1 = df_loaded.set_index(\n",
    "    ['date', 'country']\n",
    ").unstack(\n",
    "    #fill_value=0\n",
    ").asfreq(\n",
    "    'D', #fill_value=0\n",
    ").stack(\n",
    "    # True would drop all rows where all values are NAN which should never happen with this data because every row has a country name.\n",
    "    dropna=False\n",
    ").sort_index(level=1).reset_index()\n",
    "\n",
    "# Display statistics: show another way to display using a list of null and not null\n",
    "# create a series where the null elements are represented by true and a series where non_null elements are represented\n",
    "logging.info(\"\\nAfter to adding missing rows/days\")\n",
    "logging.info (\"Number of records: %s daily_vaccinations with data %s empty %s\", df1['country'].size, \n",
    "              df1[pd.notnull(df1['daily_vaccinations'])]['daily_vaccinations'].size , \n",
    "              df1[pd.isnull(df1['daily_vaccinations'])]['daily_vaccinations'].size )\n",
    "logging.info (\"Number of records: %s total_vaccinations with data %s empty %s\", df1['country'].size, \n",
    "              df1[pd.notnull(df1['total_vaccinations'])]['total_vaccinations'].size , \n",
    "              df1[pd.isnull(df1['total_vaccinations'])]['total_vaccinations'].size )\n",
    "logging.info (\"Number of records: %s vaccinated_per_hundred with data %s empty %s\", df1['country'].size, \n",
    "              df1[pd.notnull(df1['people_fully_vaccinated_per_hundred'])]['people_fully_vaccinated_per_hundred'].size , \n",
    "              df1[pd.isnull(df1['people_fully_vaccinated_per_hundred'])]['people_fully_vaccinated_per_hundred'].size )\n",
    "\n",
    "\n"
   ]
  },
  {
   "cell_type": "code",
   "execution_count": null,
   "metadata": {},
   "outputs": [],
   "source": [
    "# Sort the data by date mixes by country so lets do ordered sorting on two columns\n",
    "df_date_country = df1.sort_values(['country','date'],ascending=True)\n",
    "logging.debug(\"After fill, Before Interpolation Country\\n%s \" , df_date_country[['country','date','total_vaccinations','daily_vaccinations','total_vaccinations']])"
   ]
  },
  {
   "cell_type": "markdown",
   "metadata": {},
   "source": [
    "## Fill in missing values for the rows we are interested in\n",
    "We want to smooth out our graph and eliminate dropout days so countries always have _something_ for each day\n",
    "1. Basically got rid of the 0/ null problem. It takes whatever value the column held before and just inputs it for the next date.\n",
    "1. This fills every property/column which may not make sense for some columns.  \n",
    "1. We should only do the fields that make sense\n",
    "1. Extrapolate the missing start/end values for text fields\n",
    "1. We could extrapolate for missing end data but but let's not do that for now https://stackoverflow.com/questions/22491628/extrapolate-values-in-pandas-dataframe\n"
   ]
  },
  {
   "cell_type": "code",
   "execution_count": null,
   "metadata": {},
   "outputs": [],
   "source": [
    "df_interpolated = df_date_country\n",
    "\n",
    "# interpolate numerical values\n",
    "df_interpolated['daily_vaccinations'] = df_date_country.groupby('country').daily_vaccinations.transform(lambda x: x.interpolate())\n",
    "df_interpolated['total_vaccinations'] = df_date_country.groupby('country').total_vaccinations.transform(lambda x: x.interpolate())\n",
    "df_interpolated['people_fully_vaccinated_per_hundred'] = df_date_country.groupby('country').people_fully_vaccinated_per_hundred.transform(lambda x: x.interpolate())\n",
    "df_interpolated['people_vaccinated'] = df_date_country.groupby('country').people_vaccinated.transform(lambda x: x.interpolate())\n",
    "\n",
    "# String values , iso code, site, etc are the same for all rows in a country so we ffill and bfill in case early rows are missing values\n",
    "df_interpolated['iso_code'] = df_date_country.groupby('country').iso_code.ffill().bfill()\n",
    "logging.info(\"Interpolation finished\")\n",
    "\n",
    "# Show the number of missing total vaccinations values - must run against ungrouped (?)\n",
    "# count() is the number of non-nan\n",
    "logging.info(\"After data interpolation\")\n",
    "num_rows=df_interpolated['country'].size\n",
    "logging.info(\"Number of records: %s daily_vaccinations with data %s\", num_rows,df_interpolated['daily_vaccinations'].count())\n",
    "logging.info(\"Number of records: %s total_vaccinations with data %s\", num_rows,df_interpolated['total_vaccinations'].count())\n",
    "logging.info(\"Number of records: %s vaccinated_per_hundred with data %s\", num_rows,df_interpolated['people_fully_vaccinated_per_hundred'].count())\n",
    "\n",
    "#Sort the data by date but mixes by country so lets do ordered sorting\n",
    "# df_interpolated.sort_values(['country','date'])\n",
    "df_interpolated = df_interpolated.sort_values(['country','date'],ascending=True)\n",
    "logging.debug(\"After Interpolation: Country %s \" , df_interpolated[['total_vaccinations','daily_vaccinations','total_vaccinations']])\n"
   ]
  },
  {
   "cell_type": "markdown",
   "metadata": {},
   "source": [
    "# Graph It!\n",
    "#### TODO\n",
    "Present more data as bubble sizing"
   ]
  },
  {
   "cell_type": "markdown",
   "metadata": {},
   "source": [
    "## log(X),log(y) axis plot with vaccinations max value 70%\n",
    "\n",
    "The log(y) axis streteches the early progress and compresses the later gains.\n",
    "This is useful when in the early stages of the pandemic where the overall vaccination rates are low"
   ]
  },
  {
   "cell_type": "code",
   "execution_count": null,
   "metadata": {},
   "outputs": [],
   "source": [
    "df_interpolated['date_str']=df_interpolated.date.astype(str)\n",
    "import plotly.express as px\n",
    "fig = px.scatter(df_interpolated, \n",
    "                 x=\"daily_vaccinations\", \n",
    "                 y=\"people_fully_vaccinated_per_hundred\", \n",
    "                 animation_frame=\"date_str\",\n",
    "                 animation_group=\"country\", \n",
    "                 color='country',\n",
    "                 hover_name=\"country\", \n",
    "                 width=800, \n",
    "                 height=600,\n",
    "                 log_x=True, \n",
    "                 log_y=True,\n",
    "                 range_x=[100,5000000],\n",
    "                 range_y=[0.01,70]\n",
    "                )\n",
    "fig.update_layout(\n",
    "    title='Full Vaccinated vs Daily Vaccinations (LOG,LOG)',\n",
    "    yaxis=dict(\n",
    "        title='Fully Vaccinated per 100',\n",
    "        gridcolor='white',\n",
    "        gridwidth=2,\n",
    "    ),\n",
    "    xaxis=dict(\n",
    "        title='Daily Vaccinations'\n",
    "    )\n",
    ")\n",
    "\n",
    "fig.show()\n"
   ]
  },
  {
   "cell_type": "markdown",
   "metadata": {},
   "source": [
    "## log(X),linear(y) axis plot with vaccinations max value 70%\n",
    "\n",
    "This makes it more aparant how far we have to go"
   ]
  },
  {
   "cell_type": "code",
   "execution_count": null,
   "metadata": {},
   "outputs": [],
   "source": [
    "df_interpolated['date_str']=df_interpolated.date.astype(str)\n",
    "import plotly.express as px\n",
    "fig = px.scatter(df_interpolated, \n",
    "                 x=\"daily_vaccinations\", \n",
    "                 y=\"people_fully_vaccinated_per_hundred\", \n",
    "                 animation_frame=\"date_str\",\n",
    "                 animation_group=\"country\", \n",
    "                 color='country',\n",
    "                 hover_name=\"country\", \n",
    "                 width=800, \n",
    "                 height=600,\n",
    "                 log_x=True, \n",
    "                 log_y=False,\n",
    "                 range_x=[100,5000000],\n",
    "                 range_y=[0.01,70]\n",
    "                )\n",
    "fig.update_layout(\n",
    "    title='Full Vaccinated vs Daily Vaccinations (LOG,LINEAR)',\n",
    "    yaxis=dict(\n",
    "        title='Fully Vaccinated per 100',\n",
    "        gridcolor='white',\n",
    "        gridwidth=2,\n",
    "    ),\n",
    "    xaxis=dict(\n",
    "        title='Daily Vaccinations'\n",
    "    )\n",
    ")\n",
    "\n",
    "fig.show()\n"
   ]
  },
  {
   "cell_type": "code",
   "execution_count": null,
   "metadata": {},
   "outputs": [],
   "source": []
  }
 ],
 "metadata": {
  "kernelspec": {
   "display_name": "Python 3",
   "language": "python",
   "name": "python3"
  },
  "language_info": {
   "codemirror_mode": {
    "name": "ipython",
    "version": 3
   },
   "file_extension": ".py",
   "mimetype": "text/x-python",
   "name": "python",
   "nbconvert_exporter": "python",
   "pygments_lexer": "ipython3",
   "version": "3.7.9"
  }
 },
 "nbformat": 4,
 "nbformat_minor": 4
}
