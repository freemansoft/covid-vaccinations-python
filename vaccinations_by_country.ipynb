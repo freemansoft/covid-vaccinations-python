{
 "cells": [
  {
   "cell_type": "markdown",
   "metadata": {},
   "source": [
    "## Credits\n",
    "1. This program uses the data collected at https://ourworldindata.org/covid-vaccinations\n",
    "1. I got inspiration for doing this after seeing an early version by https://github.com/Ken-Freeman\n",
    "\n",
    "## Setup\n",
    "Download the data csv file and put it in the data directory prior to running this program. The included shell scripts download data.\n",
    "\n",
    "## Design Considerations and Artifacts\n",
    "1. This notebook creates new variables when that would make no sense in a large data problem.\n",
    "1. It does this so that we can go back and look at previous values"
   ]
  },
  {
   "cell_type": "code",
   "execution_count": null,
   "metadata": {
    "jupyter": {
     "source_hidden": true
    }
   },
   "outputs": [],
   "source": [
    "import numpy as np\n",
    "import pandas as pd\n",
    "import plotly.express as px\n",
    "import matplotlib.pyplot as plt\n",
    "%matplotlib inline\n",
    "from io import StringIO\n",
    "import os\n",
    "\n",
    "import logging, sys\n",
    "# Change this to 'DEBUG' to get raw data samples\n",
    "logging.basicConfig(stream=sys.stdout, level=logging.INFO)"
   ]
  },
  {
   "cell_type": "code",
   "execution_count": null,
   "metadata": {
    "jupyter": {
     "source_hidden": true
    }
   },
   "outputs": [],
   "source": [
    "# Function that describes the current state of the interesting fields in a vaccination dataframe\n",
    "# We cannot put the actual logging statements here because they will not show up in the cells that called these functions\n",
    "def log_vaccination_stats(banner, target_frame):\n",
    "    # Display Statistics Mumber of missing total vaccinations values - must run against ungrouped (?) - count() is the number of non-nan\n",
    "    num_rows=target_frame['location'].size\n",
    "    s2 = \"\\nNumber of records: {} daily_vaccinations             with data {} empty {}\".format(\n",
    "        num_rows,\n",
    "        target_frame['daily_vaccinations'].count(),\n",
    "        target_frame['daily_vaccinations'].isna().sum()\n",
    "    )\n",
    "    s3 = \"\\nNumber of records: {} daily_vaccinations_per_million with data {} empty {}\".format(\n",
    "        num_rows,\n",
    "        target_frame['daily_vaccinations_per_million'].count(),\n",
    "        target_frame['daily_vaccinations_per_million'].isna().sum()\n",
    "    )\n",
    "    s4 = \"\\nNumber of records: {} vaccinated_per_hundred         with data {} empty {}\".format(\n",
    "        num_rows,\n",
    "        target_frame['people_fully_vaccinated_per_hundred'].count(),\n",
    "        target_frame['people_fully_vaccinated_per_hundred'].isna().sum()\n",
    "    )\n",
    "    s5 = \"\\nNumber of records: {} total_vaccinations             with data {} empty {}\".format(\n",
    "        num_rows,\n",
    "        target_frame['total_vaccinations'].count(),\n",
    "        target_frame['total_vaccinations'].isna().sum()\n",
    "    )\n",
    "    return banner+s2+s3+s4+s5\n",
    "\n",
    "# Display statistics: show another way to display using a list of null and not null\n",
    "# create a series where the null elements are represented by true and a series where non_null elements are represented\n",
    "def log_vaccination_stats_2(banner,target_frame):\n",
    "    s2 =\"\\nNumber of records: {} daily_vaccinations              with data {} empty {}\".format(\n",
    "        target_frame['location'].size, \n",
    "        target_frame[pd.notnull(target_frame['daily_vaccinations'])]['daily_vaccinations'].size , \n",
    "        target_frame[pd.isnull(target_frame['daily_vaccinations'])]['daily_vaccinations'].size )\n",
    "    s3 = \"\\nNumber of records: {} daily_vaccinations_per_million with data {} empty {}\".format(\n",
    "        target_frame['location'].size, \n",
    "        target_frame[pd.notnull(target_frame['daily_vaccinations_per_million'])]['daily_vaccinations_per_million'].size , \n",
    "        target_frame[pd.isnull(target_frame['daily_vaccinations_per_million'])]['daily_vaccinations_per_million'].size )\n",
    "    s4 = \"\\nNumber of records: {} vaccinated_per_hundred         with data {} empty {}\".format(\n",
    "        target_frame['location'].size, \n",
    "        target_frame[pd.notnull(target_frame['people_fully_vaccinated_per_hundred'])]['people_fully_vaccinated_per_hundred'].size , \n",
    "        target_frame[pd.isnull(target_frame['people_fully_vaccinated_per_hundred'])]['people_fully_vaccinated_per_hundred'].size )\n",
    "    s5 = \"\\nNumber of records: {} total_vaccinations             with data {} empty {}\".format(\n",
    "        target_frame['location'].size,                   \n",
    "        target_frame[pd.notnull(target_frame['total_vaccinations'])]['total_vaccinations'].size , \n",
    "        target_frame[pd.isnull(target_frame['total_vaccinations'])]['total_vaccinations'].size )\n",
    "    return banner+s2+s3+s4+s5\n",
    "\n",
    "# logs out the field types in a dataframe                                        \n",
    "def log_datatypes(banner, target_frame):\n",
    "    output = StringIO()\n",
    "    target_frame.info(buf=output)\n",
    "    return \"{}\\n{}\".format(banner,output.getvalue())\n",
    "\n",
    "# Sort the data by date mixes by location so lets do ordered sorting on two columns\n",
    "def log_vaccination_samples(banner, target_frame):\n",
    "    return \"{} \\n{}\".format(\n",
    "        banner , \n",
    "        target_frame.sort_values(['location','date'], ascending=True)[\n",
    "            ['location','date','daily_vaccinations','daily_vaccinations_per_million','people_fully_vaccinated_per_hundred','total_vaccinations']])                                         \n"
   ]
  },
  {
   "cell_type": "markdown",
   "metadata": {},
   "source": [
    "## Load the Data\n",
    "1. Requests data set selection: 'world' for all coiuntries or 'state' for US States\n",
    "1. Load the data\n",
    "1. Convert the date fields from string to date\n",
    "1. Remove 2020 data because it is depressing"
   ]
  },
  {
   "cell_type": "code",
   "execution_count": null,
   "metadata": {
    "jupyter": {
     "source_hidden": true
    }
   },
   "outputs": [],
   "source": [
    "logging.info(\"Local data directory holds: %s\", os.listdir(\"data\"))\n",
    "print('\"state\" or \"world\"?')\n",
    "state_or_world = input()\n",
    "source_file = \"must enter a name\"\n",
    "\n",
    "#import data from csv\n",
    "if (state_or_world == 'state'):\n",
    "    df_loaded = pd.read_csv('data/vaccinations_state.csv',parse_dates=True)\n",
    "elif (state_or_world =='world'):\n",
    "    df_loaded = pd.read_csv('data/vaccinations_world.csv',parse_dates=True)\n",
    "else : \n",
    "    raise RuntimeError(\"must enter 'state' or 'world' not what you entered\")\n",
    "    \n",
    "# Log unique location names\n",
    "logging.debug(\"Loaded data for countries\\n %s\", pd.unique(df_loaded[\"location\"]))\n",
    "\n",
    "# lets convert the dates from strings to real dates\n",
    "logging.debug(log_datatypes(\"Schema prior to date conversion\", df_loaded))\n",
    "df_loaded['date'] = pd.to_datetime(df_loaded['date'])\n",
    "logging.debug(log_datatypes(\"Schema after to date conversion\", df_loaded))\n",
    "logging.info(log_vaccination_stats(\"On load\", df_loaded))\n",
    "df_loaded = df_loaded[(df_loaded['date'].dt.year > 2020)]\n",
    "logging.info(log_vaccination_stats(\"After prune 2020\", df_loaded))"
   ]
  },
  {
   "cell_type": "code",
   "execution_count": null,
   "metadata": {
    "jupyter": {
     "source_hidden": true
    }
   },
   "outputs": [],
   "source": [
    "#Log the countries with the most data\n",
    "logging.debug(\"the number of days for each location %s\",df_loaded.location.value_counts())\n",
    "logging.debug(\"the number of countries with more than a month worth the data %s\",df_loaded.location.value_counts()[lambda day_count: day_count > 30])"
   ]
  },
  {
   "cell_type": "markdown",
   "metadata": {},
   "source": [
    "## Entities do not supply data every day\n",
    "1. Make all the countries/states have rows for all days\n",
    "    1. Fill in missing dates.\n",
    "1. Do not fill with hard coded numerical the values.  \n",
    "1. We will interpolate or fill based on the specific requirements for a field\n",
    "\n",
    "## Fill in the missing rows"
   ]
  },
  {
   "cell_type": "code",
   "execution_count": null,
   "metadata": {
    "jupyter": {
     "source_hidden": true
    }
   },
   "outputs": [],
   "source": [
    "logging.info(log_vaccination_stats(\"Prior to filling in missing rows/days\", df_loaded))\n",
    "\n",
    "# fill in missing dates https://stackoverflow.com/questions/44978196/pandas-filling-missing-dates-and-values-within-group\n",
    "# but leave new values as nan so that we can try and extrapolate\n",
    "# this does not \"extrapolate\" the missing start/end values - probably should fill with 0 from start to first value\n",
    "df_filled = df_loaded.set_index(\n",
    "    ['date', 'location']\n",
    ").unstack(\n",
    "    #fill_value=0\n",
    ").asfreq(\n",
    "    'D', #fill_value=0\n",
    ").stack(\n",
    "    # True would drop all rows where all values are NAN which should never happen with this data because every row has a location name.\n",
    "    dropna=False\n",
    ").sort_index(level=1).reset_index()\n",
    "\n",
    "logging.info(log_vaccination_stats_2(\"\\nAfter to adding missing rows/days\",df_filled))\n",
    "logging.debug(log_vaccination_samples(\"After fill, Before Interpolation location \",df_filled))"
   ]
  },
  {
   "cell_type": "markdown",
   "metadata": {},
   "source": [
    "## Fill in missing values for the rows we are interested in\n",
    "We want to smooth out our graph and eliminate dropout days so countries always have _something_ for each day\n",
    "1. Basically got rid of the 0/ null problem. It takes whatever value the column held before and just inputs it for the next date.\n",
    "1. This fills every property/column which may not make sense for some columns.  \n",
    "1. We should only do the fields that make sense\n",
    "1. Extrapolate the missing start/end values for text fields\n",
    "1. We could extrapolate for missing end data but but let's not do that for now https://stackoverflow.com/questions/22491628/extrapolate-values-in-pandas-dataframe\n"
   ]
  },
  {
   "cell_type": "code",
   "execution_count": null,
   "metadata": {
    "jupyter": {
     "source_hidden": true
    }
   },
   "outputs": [],
   "source": [
    "df_interpolated = df_filled.sort_values(['location','date'])\n",
    "\n",
    "# interpolate numerical values\n",
    "df_interpolated['daily_vaccinations'] = df_interpolated.groupby('location').daily_vaccinations.transform(lambda x: x.interpolate())\n",
    "df_interpolated['daily_vaccinations_per_million'] = df_interpolated.groupby('location').daily_vaccinations_per_million.transform(lambda x: x.interpolate())\n",
    "df_interpolated['total_vaccinations'] = df_interpolated.groupby('location').total_vaccinations.transform(lambda x: x.interpolate())\n",
    "df_interpolated['people_fully_vaccinated_per_hundred'] = df_interpolated.groupby('location').people_fully_vaccinated_per_hundred.transform(lambda x: x.interpolate())\n",
    "df_interpolated['people_vaccinated'] = df_interpolated.groupby('location').people_vaccinated.transform(lambda x: x.interpolate())\n",
    "\n",
    "# String values , iso code, site, etc are the same for all rows in a location so we ffill and bfill in case early rows are missing values\n",
    "#df_interpolated['iso_code'] = df_interpolated.groupby('location').iso_code.ffill().bfill()\n",
    "logging.info(\"Interpolation finished\")\n",
    "\n",
    "# Show the number of missing total vaccinations values - must run against ungrouped (?)\n",
    "# count() is the number of non-nan\n",
    "logging.info(log_vaccination_stats(\"After data interpolation\", df_interpolated))\n",
    "logging.debug(log_vaccination_samples(\"After Interpolation: location\\n%s\", df_interpolated))"
   ]
  },
  {
   "cell_type": "markdown",
   "metadata": {},
   "source": [
    "# Graph It!\n",
    "#### TODO\n",
    "Present more data as bubble sizing\n",
    "\n",
    "# Vaccinated / 100 over Daily Vaccinations / Million"
   ]
  },
  {
   "cell_type": "markdown",
   "metadata": {},
   "source": [
    "## log(X),log(y) with vaccinations per hundered Y axis max value 70%\n",
    "\n",
    "The log(y) axis streteches the early progress and compresses the later gains.\n",
    "This is useful when in the early stages of the pandemic where the overall vaccination rates are low"
   ]
  },
  {
   "cell_type": "code",
   "execution_count": null,
   "metadata": {
    "jupyter": {
     "source_hidden": true
    }
   },
   "outputs": [],
   "source": [
    "df_interpolated['date_str']=df_interpolated.date.astype(str)\n",
    "import plotly.express as px\n",
    "fig = px.scatter(data_frame=df_interpolated, \n",
    "                title='Full Vaccinated vs Daily Vaccinations (LOG,LOG)',\n",
    "                 x=\"daily_vaccinations_per_million\", \n",
    "                 y=\"people_fully_vaccinated_per_hundred\", \n",
    "                 animation_frame=\"date_str\",\n",
    "                 animation_group=\"location\", \n",
    "                 color='location',\n",
    "                 hover_name=\"location\", \n",
    "                 width=800, \n",
    "                 height=600,\n",
    "                 log_x=True, \n",
    "                 log_y=True,\n",
    "                 range_x=[100+df_interpolated['daily_vaccinations_per_million'].min(),\n",
    "                          df_interpolated['daily_vaccinations_per_million'].max()],\n",
    "                 range_y=[0.1,80],\n",
    "                 labels={\"daily_vaccinations_per_million\": \"Daily Vaccinations / million\",\n",
    "                         \"people_fully_vaccinated_per_hundred\": \"Fully Vaccinated / 100\",\n",
    "                         \"location\": \"Country\"\n",
    "                        }\n",
    "                )\n",
    "fig.show()\n"
   ]
  },
  {
   "cell_type": "markdown",
   "metadata": {},
   "source": [
    "## log(X),linear(y) with vaccinations per hundered Y axis max value 70%\n",
    "This makes it more aparant how far we have to go"
   ]
  },
  {
   "cell_type": "code",
   "execution_count": null,
   "metadata": {
    "jupyter": {
     "source_hidden": true
    }
   },
   "outputs": [],
   "source": [
    "df_interpolated['date_str']=df_interpolated.date.astype(str)\n",
    "import plotly.express as px\n",
    "fig = px.scatter(data_frame=df_interpolated, \n",
    "                 title='Full Vaccinated vs Daily Vaccinations (LOG,LOG)',\n",
    "                 x=\"daily_vaccinations_per_million\", \n",
    "                 y=\"people_fully_vaccinated_per_hundred\", \n",
    "                 animation_frame=\"date_str\",\n",
    "                 animation_group=\"location\", \n",
    "                 color='location',\n",
    "                 hover_name=\"location\", \n",
    "                 width=800, \n",
    "                 height=600,\n",
    "                 log_x=True, \n",
    "                 log_y=False,\n",
    "                 range_x=[100+df_interpolated['daily_vaccinations_per_million'].min(),\n",
    "                          df_interpolated['daily_vaccinations_per_million'].max()],\n",
    "                 range_y=[0.1,80],\n",
    "                 labels={\"daily_vaccinations_per_million\": \"Daily Vaccinations / million\",\n",
    "                         \"people_fully_vaccinated_per_hundred\": \"Fully Vaccinated / 100\",\n",
    "                         \"location\": \"Country\"\n",
    "                        }                 \n",
    "                )\n",
    "\n",
    "fig.show()\n"
   ]
  },
  {
   "cell_type": "markdown",
   "metadata": {},
   "source": [
    "# Vaccinated / 100 over Daily Vaccinations raw number\n",
    "## log(X),log(y) with vaccinations per hundered Y axis max value 70%\n",
    "The log(y) axis streteches the early progress and compresses the later gains. \n",
    "This is useful when in the early stages of the pandemic where the overall vaccination rates are low"
   ]
  },
  {
   "cell_type": "code",
   "execution_count": null,
   "metadata": {
    "jupyter": {
     "source_hidden": true
    }
   },
   "outputs": [],
   "source": [
    "\n",
    "df_interpolated['date_str']=df_interpolated.date.astype(str)\n",
    "import plotly.express as px\n",
    "fig = px.scatter(data_frame=df_interpolated, \n",
    "    title='Full Vaccinated vs Daily Vaccinations (LOG,LOG)',\n",
    "                 x=\"daily_vaccinations\", \n",
    "                 y=\"people_fully_vaccinated_per_hundred\", \n",
    "                 animation_frame=\"date_str\",\n",
    "                 animation_group=\"location\", \n",
    "                 color='location',\n",
    "                 hover_name=\"location\", \n",
    "                 width=800, \n",
    "                 height=600,\n",
    "                 log_x=True, \n",
    "                 log_y=True,\n",
    "                 range_x=[100+df_interpolated['daily_vaccinations'].min(),\n",
    "                          df_interpolated['daily_vaccinations'].max()],\n",
    "                 range_y=[0.1,80],\n",
    "                 labels={\"daily_vaccinations\": \"Daily Vaccinations - Raw\",\n",
    "                         \"people_fully_vaccinated_per_hundred\": \"Fully Vaccinated / 100\",\n",
    "                         \"location\": \"Country\"\n",
    "                        }                 \n",
    "                )\n",
    "fig.show()"
   ]
  },
  {
   "cell_type": "markdown",
   "metadata": {},
   "source": [
    "## log(X),linear(y) with vaccinations per hundered Y axis max value 70%\n",
    "This makes it more aparant how far we have to go"
   ]
  },
  {
   "cell_type": "code",
   "execution_count": null,
   "metadata": {
    "jupyter": {
     "source_hidden": true
    }
   },
   "outputs": [],
   "source": [
    "df_interpolated['date_str']=df_interpolated.date.astype(str)\n",
    "import plotly.express as px\n",
    "fig = px.scatter(data_frame=df_interpolated, \n",
    "                 title='Full Vaccinated vs Daily Vaccinations (LOG,LINEAR)',\n",
    "                 x=\"daily_vaccinations\", \n",
    "                 y=\"people_fully_vaccinated_per_hundred\", \n",
    "                 animation_frame=\"date_str\",\n",
    "                 animation_group=\"location\", \n",
    "                 color='location',\n",
    "                 hover_name=\"location\", \n",
    "                 width=800, \n",
    "                 height=600,\n",
    "                 log_x=True, \n",
    "                 log_y=False,\n",
    "                 range_x=[100+df_interpolated['daily_vaccinations'].min(),\n",
    "                          df_interpolated['daily_vaccinations'].max()],\n",
    "                 range_y=[0.1,80],\n",
    "                 labels={\"daily_vaccinations\": \"Daily Vaccinations - Raw\",\n",
    "                         \"people_fully_vaccinated_per_hundred\": \"Fully Vaccinated / 100\",\n",
    "                         \"location\": \"Country\"\n",
    "                        }\n",
    "                )\n",
    "fig.show()\n"
   ]
  }
 ],
 "metadata": {
  "kernelspec": {
   "display_name": "Python 3",
   "language": "python",
   "name": "python3"
  },
  "language_info": {
   "codemirror_mode": {
    "name": "ipython",
    "version": 3
   },
   "file_extension": ".py",
   "mimetype": "text/x-python",
   "name": "python",
   "nbconvert_exporter": "python",
   "pygments_lexer": "ipython3",
   "version": "3.7.9"
  }
 },
 "nbformat": 4,
 "nbformat_minor": 4
}
